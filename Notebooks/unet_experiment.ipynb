{
 "cells": [
  {
   "cell_type": "markdown",
   "metadata": {},
   "source": [
    "# Clear Pycache"
   ]
  },
  {
   "cell_type": "code",
   "execution_count": null,
   "metadata": {},
   "outputs": [],
   "source": [
    "import shutil\n",
    "import os\n",
    "\n",
    "\n",
    "directory_list = ['', \"Data\", \"Models\", \"Training\", \"Notebooks\", \"Visualizer\"]\n",
    "for directory in directory_list:\n",
    "    directory = os.path.join(\"..\", directory, \"__pycache__\")\n",
    "    if os.path.exists(directory):\n",
    "        shutil.rmtree(directory)\n",
    "        print(f\"Removed {directory}\")"
   ]
  },
  {
   "cell_type": "markdown",
   "metadata": {},
   "source": [
    "# Imports"
   ]
  },
  {
   "cell_type": "code",
   "execution_count": null,
   "metadata": {},
   "outputs": [],
   "source": [
    "import sys\n",
    "sys.path.append('../')\n",
    "\n",
    "import torch\n",
    "import torch.nn as nn\n",
    "import numpy as np\n",
    "import sys\n",
    "import albumentations as A\n",
    "from albumentations.pytorch import ToTensorV2\n",
    "import torch.optim as optim\n",
    "from tqdm.notebook import tqdm\n",
    "from PIL import ImageShow, Image\n",
    "import matplotlib.pyplot as plt\n",
    "\n",
    "from Models import UNet, DeepLabV3_Plus\n",
    "from Data.dataset import UnetDataSet\n",
    "from Data.dataloader import get_loaders\n",
    "from Data.transforms import get_train_transforms, get_val_transforms\n",
    "\n",
    "from Training.checkpoint import load_checkpoint, save_checkpoint, save_checkpoint"
   ]
  },
  {
   "cell_type": "markdown",
   "metadata": {},
   "source": [
    "# Cityscapes class Labels"
   ]
  },
  {
   "cell_type": "code",
   "execution_count": null,
   "metadata": {},
   "outputs": [],
   "source": [
    "from collections import namedtuple\n",
    "\n",
    "#--------------------------------------------------------------------------------\n",
    "# Definitions\n",
    "#--------------------------------------------------------------------------------\n",
    "\n",
    "# a label and all meta information\n",
    "Label = namedtuple( 'Label' , [\n",
    "\n",
    "    'name'        , # The identifier of this label, e.g. 'car', 'person', ... .\n",
    "                    # We use them to uniquely name a class\n",
    "\n",
    "    'id'          , # An integer ID that is associated with this label.\n",
    "                    # The IDs are used to represent the label in ground truth images\n",
    "                    # An ID of -1 means that this label does not have an ID and thus\n",
    "                    # is ignored when creating ground truth images (e.g. license plate).\n",
    "\n",
    "    'trainId'     , # An integer ID that overwrites the ID above, when creating ground truth\n",
    "                    # images for training.\n",
    "                    # For training, multiple labels might have the same ID. Then, these labels\n",
    "                    # are mapped to the same class in the ground truth images. For the inverse\n",
    "                    # mapping, we use the label that is defined first in the list below.\n",
    "                    # For example, mapping all void-type classes to the same ID in training,\n",
    "                    # might make sense for some approaches.\n",
    "\n",
    "    'category'    , # The name of the category that this label belongs to\n",
    "\n",
    "    'categoryId'  , # The ID of this category. Used to create ground truth images\n",
    "                    # on category level.\n",
    "\n",
    "    'hasInstances', # Whether this label distinguishes between single instances or not\n",
    "\n",
    "    'ignoreInEval', # Whether pixels having this class as ground truth label are ignored\n",
    "                    # during evaluations or not\n",
    "\n",
    "    'color'       , # The color of this label\n",
    "    ] )\n",
    "\n",
    "\n",
    "#--------------------------------------------------------------------------------\n",
    "# A list of all labels\n",
    "#--------------------------------------------------------------------------------\n",
    "\n",
    "# Please adapt the train IDs as appropriate for you approach.\n",
    "# Note that you might want to ignore labels with ID 255 during training.\n",
    "# Make sure to provide your results using the original IDs and not the training IDs.\n",
    "# Note that many IDs are ignored in evaluation and thus you never need to predict these!\n",
    "\n",
    "labels = [\n",
    "    #       name                     id    trainId   category            catId     hasInstances   ignoreInEval   color\n",
    "    Label(  'unlabeled'            ,  0 ,      255 , 'void'            , 0       , False        , True         , (  0,  0,  0) ),\n",
    "    Label(  'ego vehicle'          ,  1 ,      255 , 'void'            , 0       , False        , True         , (  0,  0,  0) ),\n",
    "    Label(  'rectification border' ,  2 ,      255 , 'void'            , 0       , False        , True         , (  0,  0,  0) ),\n",
    "    Label(  'out of roi'           ,  3 ,      255 , 'void'            , 0       , False        , True         , (  0,  0,  0) ),\n",
    "    Label(  'static'               ,  4 ,      255 , 'void'            , 0       , False        , True         , (  0,  0,  0) ),\n",
    "    Label(  'dynamic'              ,  5 ,      255 , 'void'            , 0       , False        , True         , (111, 74,  0) ),\n",
    "    Label(  'ground'               ,  6 ,      255 , 'void'            , 0       , False        , True         , ( 81,  0, 81) ),\n",
    "    Label(  'road'                 ,  7 ,        0 , 'ground'          , 1       , False        , False        , (128, 64,128) ),\n",
    "    Label(  'sidewalk'             ,  8 ,        1 , 'ground'          , 1       , False        , False        , (244, 35,232) ),\n",
    "    Label(  'parking'              ,  9 ,      255 , 'ground'          , 1       , False        , True         , (250,170,160) ),\n",
    "    Label(  'rail track'           , 10 ,      255 , 'ground'          , 1       , False        , True         , (230,150,140) ),\n",
    "    Label(  'building'             , 11 ,        2 , 'construction'    , 2       , False        , False        , ( 70, 70, 70) ),\n",
    "    Label(  'wall'                 , 12 ,        3 , 'construction'    , 2       , False        , False        , (102,102,156) ),\n",
    "    Label(  'fence'                , 13 ,        4 , 'construction'    , 2       , False        , False        , (190,153,153) ),\n",
    "    Label(  'guard rail'           , 14 ,      255 , 'construction'    , 2       , False        , True         , (180,165,180) ),\n",
    "    Label(  'bridge'               , 15 ,      255 , 'construction'    , 2       , False        , True         , (150,100,100) ),\n",
    "    Label(  'tunnel'               , 16 ,      255 , 'construction'    , 2       , False        , True         , (150,120, 90) ),\n",
    "    Label(  'pole'                 , 17 ,        5 , 'object'          , 3       , False        , False        , (153,153,153) ),\n",
    "    Label(  'polegroup'            , 18 ,      255 , 'object'          , 3       , False        , True         , (153,153,153) ),\n",
    "    Label(  'traffic light'        , 19 ,        6 , 'object'          , 3       , False        , False        , (250,170, 30) ),\n",
    "    Label(  'traffic sign'         , 20 ,        7 , 'object'          , 3       , False        , False        , (220,220,  0) ),\n",
    "    Label(  'vegetation'           , 21 ,        8 , 'nature'          , 4       , False        , False        , (107,142, 35) ),\n",
    "    Label(  'terrain'              , 22 ,        9 , 'nature'          , 4       , False        , False        , (152,251,152) ),\n",
    "    Label(  'sky'                  , 23 ,       10 , 'sky'             , 5       , False        , False        , ( 70,130,180) ),\n",
    "    Label(  'person'               , 24 ,       11 , 'human'           , 6       , True         , False        , (220, 20, 60) ),\n",
    "    Label(  'rider'                , 25 ,       12 , 'human'           , 6       , True         , False        , (255,  0,  0) ),\n",
    "    Label(  'car'                  , 26 ,       13 , 'vehicle'         , 7       , True         , False        , (  0,  0,142) ),\n",
    "    Label(  'truck'                , 27 ,       14 , 'vehicle'         , 7       , True         , False        , (  0,  0, 70) ),\n",
    "    Label(  'bus'                  , 28 ,       15 , 'vehicle'         , 7       , True         , False        , (  0, 60,100) ),\n",
    "    Label(  'caravan'              , 29 ,      255 , 'vehicle'         , 7       , True         , True         , (  0,  0, 90) ),\n",
    "    Label(  'trailer'              , 30 ,      255 , 'vehicle'         , 7       , True         , True         , (  0,  0,110) ),\n",
    "    Label(  'train'                , 31 ,       16 , 'vehicle'         , 7       , True         , False        , (  0, 80,100) ),\n",
    "    Label(  'motorcycle'           , 32 ,       17 , 'vehicle'         , 7       , True         , False        , (  0,  0,230) ),\n",
    "    Label(  'bicycle'              , 33 ,       18 , 'vehicle'         , 7       , True         , False        , (119, 11, 32) ),\n",
    "    Label(  'license plate'        , 34 ,       19 , 'vehicle'         , 7       , False        , True         , (  0,  0,142) ),\n",
    "]\n",
    "import numpy as np\n",
    "\n",
    "id2color = {label.id: np.asarray(label.color) for label in labels}\n",
    "\n",
    "def decode_mask(encoded_mask):\n",
    "    encoded_mask = np.array(encoded_mask)\n",
    "    shape = encoded_mask.shape + (3,)\n",
    "    decoded_mask = np.zeros(shape, dtype='uint8')\n",
    "\n",
    "    for label_id, color in id2color.items():\n",
    "        decoded_mask[encoded_mask == label_id] = color\n",
    "\n",
    "    return decoded_mask"
   ]
  },
  {
   "cell_type": "markdown",
   "metadata": {},
   "source": [
    "# Hyperparameters"
   ]
  },
  {
   "cell_type": "code",
   "execution_count": null,
   "metadata": {},
   "outputs": [],
   "source": [
    "LEARNING_RATE = 1e-4\n",
    "DEVICE = \"cuda\" if torch.cuda.is_available() else \"cpu\"\n",
    "# DEVICE = \"cpu\"\n",
    "BATCH_SIZE = 16\n",
    "NUM_EPOCHS = 105\n",
    "NUM_WORKERS = 4\n",
    "IMAGE_HEIGHT = 128\n",
    "IMAGE_WIDTH = IMAGE_HEIGHT\n",
    "MAX_BATCH = None\n",
    "PIN_MEMORY = True\n",
    "LOAD_MODEL = True\n",
    "NUM_CLASSES = 35"
   ]
  },
  {
   "cell_type": "markdown",
   "metadata": {},
   "source": [
    "# Dataset Directories"
   ]
  },
  {
   "cell_type": "markdown",
   "metadata": {},
   "source": [
    "## Carvana"
   ]
  },
  {
   "cell_type": "code",
   "execution_count": null,
   "metadata": {},
   "outputs": [],
   "source": [
    "TRAIN_IMG_DIR = 'F:/UNI_STUFF/Thesis/cityscapes_data/train_images'\n",
    "TRAIN_MASK_DIR = 'F:/UNI_STUFF/Thesis/cityscapes_data/train_encoded_masks'\n",
    "VAL_IMG_DIR = 'F:/UNI_STUFF/Thesis/cityscapes_data/val_images'\n",
    "VAL_MASK_DIR = 'F:/UNI_STUFF/Thesis/cityscapes_data/val_encoded_masks'\n",
    "CHECKPOINT_FIlE = \"../Checkpoints/cityscapes_checkpoint_DeepLabV3_Plus.pth\""
   ]
  },
  {
   "cell_type": "markdown",
   "metadata": {},
   "source": [
    "## Self Driving Cars"
   ]
  },
  {
   "cell_type": "markdown",
   "metadata": {},
   "source": [
    "image_dir = [\"I:/Downloads/Compressed/DATA/\"+\"data\"+i+\"/\"+\"data\"+i+\"/CameraRGB/\" for i in ['A', 'B', 'C', 'D', 'E']]\n",
    "mask_dir = [\"I:/Downloads/Compressed/DATA/\"+\"data\"+i+\"/\"+\"data\"+i+\"/CameraSeg/\" for i in ['A', 'B', 'C', 'D', 'E']]"
   ]
  },
  {
   "cell_type": "markdown",
   "metadata": {},
   "source": [
    "dataset = UnetDataSet(image_dir, mask_dir, transform=\n",
    "                            A.Compose(\n",
    "    [\n",
    "        A.Resize(height=IMAGE_HEIGHT, width=IMAGE_WIDTH),\n",
    "        A.Normalize(\n",
    "            mean=[0.0, 0.0, 0.0],\n",
    "            std=[1.0, 1.0, 1.0],\n",
    "            max_pixel_value=255.0,\n",
    "        ),\n",
    "    ]\n",
    "))\n",
    "\n",
    "\n",
    "img, mask = dataset[0]\n",
    "\n",
    "mask = np.longlong(mask)\n",
    "\n",
    "plt.figure(figsize=(10, 8))\n",
    "plt.subplot(1, 2, 1)\n",
    "plt.axis('off')\n",
    "plt.imshow(img)\n",
    "plt.subplot(1, 2, 2)\n",
    "plt.axis('off')\n",
    "plt.imshow(mask)\n",
    "plt.show()"
   ]
  },
  {
   "cell_type": "markdown",
   "metadata": {},
   "source": [
    "# Load Model"
   ]
  },
  {
   "cell_type": "code",
   "execution_count": null,
   "metadata": {},
   "outputs": [],
   "source": [
    "model = UNet(NUM_CLASSES).to(DEVICE)\n",
    "loss_fn = nn.CrossEntropyLoss()\n",
    "optimizer = optim.Adam(model.parameters(), lr=LEARNING_RATE)\n",
    "start_epoch = 0\n",
    "\n",
    "try:\n",
    "    if LOAD_MODEL:\n",
    "        start_epoch = load_checkpoint(ckpt_file=CHECKPOINT_FIlE, model=model, optimizer=optimizer)\n",
    "except Exception as e:\n",
    "    print(f\"Error loading checkpoint: {str(e)}\")\n",
    "    start_epoch = 0\n",
    "\n",
    "train_ds = UnetDataSet(TRAIN_IMG_DIR, TRAIN_MASK_DIR, transform=get_train_transforms(IMAGE_HEIGHT, IMAGE_WIDTH))\n",
    "val_ds = UnetDataSet(VAL_IMG_DIR, VAL_MASK_DIR, transform=get_val_transforms(IMAGE_HEIGHT, IMAGE_WIDTH))\n",
    "\n",
    "train_loader, val_loader = get_loaders(\n",
    "    train_ds,\n",
    "    val_ds,\n",
    "    BATCH_SIZE,\n",
    "    NUM_WORKERS,\n",
    "    PIN_MEMORY,\n",
    ")"
   ]
  },
  {
   "cell_type": "markdown",
   "metadata": {},
   "source": [
    "# Training Loop"
   ]
  },
  {
   "cell_type": "code",
   "execution_count": 7,
   "metadata": {},
   "outputs": [
    {
     "name": "stderr",
     "output_type": "stream",
     "text": [
      "Epoch 3: 100%|██████████| 186/186 [01:24<00:00,  2.20batch/s, Loss=1.76, Pixel Accuracy=0.617, mIoU=0.0833]\n"
     ]
    },
    {
     "name": "stdout",
     "output_type": "stream",
     "text": [
      "=> Epoch 3 is complete\n",
      "=> Saving checkpoint\n"
     ]
    },
    {
     "data": {
      "image/png": "[encoded data removed]",
      "text/plain": [
       "<Figure size 640x480 with 4 Axes>"
      ]
     },
     "metadata": {},
     "output_type": "display_data"
    },
    {
     "name": "stderr",
     "output_type": "stream",
     "text": [
      "Epoch 4:   2%|▏         | 4/186 [00:12<06:26,  2.12s/batch, Loss=1.71, Pixel Accuracy=0.612, mIoU=0.0761]"
     ]
    }
   ],
   "source": [
    "from Training.trainer import train_fn\n",
    "\n",
    "scaler = torch.cuda.amp.GradScaler()\n",
    "\n",
    "start_epoch += 1 # start from the next epoch\n",
    "print(f\"Starting from epoch {start_epoch}\")\n",
    "for epoch in range(start_epoch, NUM_EPOCHS + 1):\n",
    "    predictions, masks, loss = train_fn(epoch, train_loader, model, optimizer, loss_fn, scaler, device=DEVICE)\n",
    "\n",
    "    # save model\n",
    "    checkpoint = {\n",
    "        \"state_dict\": model.state_dict(),\n",
    "        \"optimizer\":optimizer.state_dict(),\n",
    "        \"epoch\": epoch,\n",
    "    }\n",
    "    print(f\"=> Epoch {epoch} is complete\")\n",
    "    save_checkpoint(checkpoint, filename=CHECKPOINT_FIlE)\n",
    "\n",
    "    #plot some examples to see how well the model is doing with matplotlib\n",
    "\n",
    "    import matplotlib.pyplot as plt\n",
    "\n",
    "    try:\n",
    "\n",
    "        \"\"\"Plotting the first prediction and target\"\"\"\n",
    "\n",
    "        predictions = torch.argmax(torch.nn.Softmax(dim=1)(predictions), dim=1)\n",
    "        predictions = predictions.unsqueeze(1)\n",
    "        masks = masks.unsqueeze(1)\n",
    "\n",
    "        plt.subplot(2, 2, 1)\n",
    "        plt.imshow(decode_mask(predictions[0][0].cpu().detach().numpy()))\n",
    "        plt.title('Prediction')\n",
    "        plt.axis('off')\n",
    "\n",
    "        plt.subplot(2, 2, 2)\n",
    "        plt.imshow(decode_mask(masks[0][0].cpu().detach().numpy()))\n",
    "        plt.title('Target')\n",
    "        plt.axis('off')\n",
    "\n",
    "        # Plotting the second prediction and target\n",
    "        plt.subplot(2, 2, 3)\n",
    "        plt.imshow(decode_mask(predictions[1][0].cpu().detach().numpy()))\n",
    "        plt.title('Prediction')\n",
    "        plt.axis('off')\n",
    "\n",
    "        plt.subplot(2, 2, 4)\n",
    "        plt.imshow(decode_mask(masks[1][0].cpu().detach().numpy()))\n",
    "        plt.title('Target')\n",
    "        plt.axis('off')\n",
    "\n",
    "        plt.tight_layout()\n",
    "        plt.show()\n",
    "    except Exception as e:\n",
    "        print(f\"Error plotting predictions: {str(e)}\")\n",
    "        continue\n"
   ]
  },
  {
   "cell_type": "markdown",
   "metadata": {},
   "source": [
    "# Test Prediction"
   ]
  },
  {
   "cell_type": "code",
   "execution_count": null,
   "metadata": {},
   "outputs": [],
   "source": [
    "import sys\n",
    "sys.path.append('../')\n",
    "\n",
    "import torch\n",
    "from Models.unet import UNet\n",
    "import albumentations as A\n",
    "from albumentations.pytorch import ToTensorV2\n",
    "from PIL import Image\n",
    "import numpy as np\n",
    "import matplotlib.pyplot as plt"
   ]
  },
  {
   "cell_type": "code",
   "execution_count": null,
   "metadata": {},
   "outputs": [],
   "source": [
    "# Load the model from the checkpoint\n",
    "NUM_CLASSES = 35\n",
    "DEVICE = \"cuda\" if torch.cuda.is_available() else \"cpu\"\n",
    "CHECKPOINT_FIlE = \"../Checkpoints/cityscapes_checkpoint.pth.tar\"\n",
    "\n",
    "model = UNet(in_channels=3, out_channels=NUM_CLASSES)\n",
    "checkpoint = torch.load(CHECKPOINT_FIlE)\n",
    "model.load_state_dict(checkpoint[\"state_dict\"])\n",
    "# print(checkpoint[\"epoch\"])\n",
    "# model.eval()\n",
    "\n",
    "transform = A.Compose([\n",
    "    A.Resize(height=128, width=128),\n",
    "    A.Normalize(\n",
    "        mean=[0.0, 0.0, 0.0],\n",
    "        std=[1.0, 1.0, 1.0],\n",
    "        max_pixel_value=255.0,), # Example normalization values\n",
    "    ToTensorV2()\n",
    "])\n",
    "\n",
    "# Load and preprocess the image\n",
    "image_dir = \"F:/UNI_STUFF/Thesis/cityscapes_data/val_images/109.jpg\"\n",
    "mask_dir = \"F:/UNI_STUFF/Thesis/cityscapes_data/val_encoded_masks/109.jpg\"\n",
    "\n",
    "image = np.array(Image.open(image_dir).convert(\"RGB\"))\n",
    "image = transform(image=image)[\"image\"]\n",
    "image /= 255.0\n",
    "# input_tensor = val_transforms(image=image)[\"image\"].unsqueeze(0)\n",
    "\n",
    "model = model.to(DEVICE)\n",
    "image = image.unsqueeze(0).to(DEVICE)\n",
    "\n",
    "\n",
    "# Make predictions\n",
    "\n",
    "with torch.no_grad():\n",
    "    predictions = model(image)\n",
    "\n",
    "# Process the predictions as needed\n",
    "# ...\n",
    "\n",
    "# Print the predictions\n",
    "predictions = torch.argmax(torch.nn.Softmax(dim=1)(predictions), dim=1)\n",
    "predictions = predictions.squeeze(0).cpu().numpy()\n",
    "\n"
   ]
  },
  {
   "cell_type": "markdown",
   "metadata": {},
   "source": [
    "Decode the predictions to RGB"
   ]
  },
  {
   "cell_type": "code",
   "execution_count": null,
   "metadata": {},
   "outputs": [],
   "source": [
    "from Visualizer import plot_images\n",
    "\n",
    "image_to_display = image.to('cpu')[0].permute(1, 2, 0).numpy() * 255.0\n",
    "masks = np.array(Image.open(mask_dir))\n",
    "masks = decode_mask(masks)\n",
    "prediction_to_display = decode_mask(predictions)\n",
    "\n",
    "plot_images([image_to_display, masks], ['Original Image', 'GT'], max_cols=3, figsize=(4, 3))\n",
    "plot_images([image_to_display, prediction_to_display], ['Original Image', 'Prediction'], max_cols=3, figsize=(4, 3))\n"
   ]
  }
 ],
 "metadata": {
  "kernelspec": {
   "display_name": "pytorch",
   "language": "python",
   "name": "python3"
  },
  "language_info": {
   "codemirror_mode": {
    "name": "ipython",
    "version": 3
   },
   "file_extension": ".py",
   "mimetype": "text/x-python",
   "name": "python",
   "nbconvert_exporter": "python",
   "pygments_lexer": "ipython3",
   "version": "3.12.3"
  }
 },
 "nbformat": 4,
 "nbformat_minor": 2
}
